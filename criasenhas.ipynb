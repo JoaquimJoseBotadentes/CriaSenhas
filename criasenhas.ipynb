{
 "cells": [
  {
   "cell_type": "markdown",
   "id": "5c2342c7",
   "metadata": {},
   "source": [
    "# Cria senhas\n",
    "\n",
    "Melhore sua senha usando uma cifra de troca seguindo a sequencia de fibonacci"
   ]
  },
  {
   "cell_type": "markdown",
   "id": "5cf4f701",
   "metadata": {},
   "source": [
    "Como utilizar:\n",
    "Basta adicionar sua senha inicial (Uma palavra sem espaço nem simbolos e com a primeira letra maiuscula) a variavel \"senha_inicial\".\n",
    "\n",
    "O programa retornará a senha inicial criptografada com uma cifra de troca com a chave avançando na sequência de fibonacci para cada digito.\n"
   ]
  },
  {
   "cell_type": "code",
   "execution_count": null,
   "id": "d8427c20",
   "metadata": {},
   "outputs": [
    {
     "ename": "TypeError",
     "evalue": "'int' object is not iterable",
     "output_type": "error",
     "traceback": [
      "\u001b[31m---------------------------------------------------------------------------\u001b[39m",
      "\u001b[31mTypeError\u001b[39m                                 Traceback (most recent call last)",
      "\u001b[36mCell\u001b[39m\u001b[36m \u001b[39m\u001b[32mIn[1]\u001b[39m\u001b[32m, line 4\u001b[39m\n\u001b[32m      1\u001b[39m senha_inicial = \u001b[33m\"\u001b[39m\u001b[33mSuasenha\u001b[39m\u001b[33m\"\u001b[39m\n\u001b[32m      3\u001b[39m \u001b[38;5;66;03m# Preciso encontrar um jeito de achar a sequência de fibonacci automaticamente...\u001b[39;00m\n\u001b[32m----> \u001b[39m\u001b[32m4\u001b[39m \u001b[38;5;28;43;01mfor\u001b[39;49;00m\u001b[43m \u001b[49m\u001b[43mi\u001b[49m\u001b[43m \u001b[49m\u001b[38;5;129;43;01min\u001b[39;49;00m\u001b[43m \u001b[49m\u001b[38;5;28;43mlen\u001b[39;49m\u001b[43m(\u001b[49m\u001b[43msenha_inicial\u001b[49m\u001b[43m)\u001b[49m\u001b[43m:\u001b[49m\n\u001b[32m      5\u001b[39m \u001b[43m    \u001b[49m\u001b[38;5;28;43mprint\u001b[39;49m\u001b[43m(\u001b[49m\u001b[43mi\u001b[49m\u001b[43m)\u001b[49m\n",
      "\u001b[31mTypeError\u001b[39m: 'int' object is not iterable"
     ]
    }
   ],
   "source": [
    "senha_inicial = \"Suasenha\"\n",
    "\n",
    "# encontrando a sequência de fibonnaci\n",
    "x = []\n",
    "for i in len(senha_inicial)\n",
    "    if len(x) == 0:\n",
    "        x.append(0)\n",
    "    if len(x) == 1:\n",
    "        x.append(1)\n",
    "    if len(x) == 2:\n",
    "        x.append(1)\n",
    "    else:\n",
    "        x.append((x[-1]+x[-2]))\n",
    "\n",
    "# substituindo a senha\n",
    "senha_nova = []\n",
    "for i, j in range(x), senha_inicial:\n",
    "    senha_nova.append(j+i)\n",
    "    \n",
    "print(senha_nova)"
   ]
  },
  {
   "cell_type": "code",
   "execution_count": null,
   "id": "a3a86620",
   "metadata": {},
   "outputs": [],
   "source": []
  }
 ],
 "metadata": {
  "kernelspec": {
   "display_name": "Python 3",
   "language": "python",
   "name": "python3"
  },
  "language_info": {
   "codemirror_mode": {
    "name": "ipython",
    "version": 3
   },
   "file_extension": ".py",
   "mimetype": "text/x-python",
   "name": "python",
   "nbconvert_exporter": "python",
   "pygments_lexer": "ipython3",
   "version": "3.12.7"
  }
 },
 "nbformat": 4,
 "nbformat_minor": 5
}
