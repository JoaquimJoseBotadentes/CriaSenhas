{
 "cells": [
  {
   "cell_type": "markdown",
   "id": "5c2342c7",
   "metadata": {},
   "source": [
    "# Cria senhas\n",
    "\n",
    "Melhore sua senha usando uma cifra de troca seguindo a sequencia de fibonacci"
   ]
  },
  {
   "cell_type": "markdown",
   "id": "5cf4f701",
   "metadata": {},
   "source": [
    "Como utilizar:\n",
    "Basta adicionar sua senha inicial (Uma palavra sem espaço nem simbolos e com a primeira letra maiuscula) a variavel \"senha_inicial\".\n",
    "\n",
    "O programa retornará a senha inicial criptografada com uma cifra de troca com a chave avançando na sequência de fibonacci para cada digito.\n"
   ]
  },
  {
   "cell_type": "code",
   "execution_count": 16,
   "id": "d8427c20",
   "metadata": {},
   "outputs": [
    {
     "name": "stdout",
     "output_type": "stream",
     "text": [
      "Cbocvyzn\n"
     ]
    }
   ],
   "source": [
    "senha_inicial = \"Canastra\"\n",
    "alfabeto = \"abcdefghijklmnopqrstuvwxyz\"\n",
    "\n",
    "# encontrando a sequência de fibonnaci\n",
    "x = []\n",
    "for i in range(len(senha_inicial)):\n",
    "    if len(x) == 0:\n",
    "        x.append(0)\n",
    "    if len(x) == 1:\n",
    "        x.append(1)\n",
    "    if len(x) == 2:\n",
    "        x.append(1)\n",
    "    else:\n",
    "        x.append((x[-1]+x[-2]))\n",
    "\n",
    "#transformando a senha inicial\n",
    "senha_numerica = []\n",
    "for i in senha_inicial:\n",
    "    senha_numerica.append(alfabeto.index(i.lower()))\n",
    "\n",
    "\n",
    "# substituindo a senha\n",
    "senha_nova = \"\"\n",
    "z = zip(x, senha_numerica)\n",
    "for i, j in z:\n",
    "    digito = i+j\n",
    "    while digito > 25:\n",
    "        digito -= 26\n",
    "    if i == 0:\n",
    "        senha_nova += alfabeto[digito].upper()\n",
    "    else:\n",
    "        senha_nova += alfabeto[digito]\n",
    "    \n",
    "print(senha_nova)"
   ]
  },
  {
   "cell_type": "code",
   "execution_count": null,
   "id": "a3a86620",
   "metadata": {},
   "outputs": [],
   "source": []
  }
 ],
 "metadata": {
  "kernelspec": {
   "display_name": "Python 3",
   "language": "python",
   "name": "python3"
  },
  "language_info": {
   "codemirror_mode": {
    "name": "ipython",
    "version": 3
   },
   "file_extension": ".py",
   "mimetype": "text/x-python",
   "name": "python",
   "nbconvert_exporter": "python",
   "pygments_lexer": "ipython3",
   "version": "3.12.7"
  }
 },
 "nbformat": 4,
 "nbformat_minor": 5
}
